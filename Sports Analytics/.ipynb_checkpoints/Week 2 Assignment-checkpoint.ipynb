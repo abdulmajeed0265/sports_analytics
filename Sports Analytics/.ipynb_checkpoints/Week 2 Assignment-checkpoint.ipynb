{
 "cells": [
  {
   "cell_type": "markdown",
   "metadata": {},
   "source": [
    "## Part 1- Data Coding and Merging"
   ]
  },
  {
   "cell_type": "code",
   "execution_count": null,
   "metadata": {
    "scrolled": true
   },
   "outputs": [],
   "source": [
    "#Import Libraries\n",
    "\n",
    "import pandas as pd\n",
    "import numpy as np\n",
    "import datetime\n",
    "import matplotlib.pyplot as plt\n",
    "import seaborn as sns"
   ]
  },
  {
   "cell_type": "code",
   "execution_count": null,
   "metadata": {},
   "outputs": [],
   "source": [
    "#Import NHL Team Data and Display\n",
    "NHL_Team=pd.read_csv(\"Assignment Data/Week 2/NHL_team.csv\")\n",
    "display(NHL_Team)"
   ]
  },
  {
   "cell_type": "code",
   "execution_count": null,
   "metadata": {},
   "outputs": [],
   "source": [
    "#Import NHL Competition Data and Display Head\n",
    "NHL_Competition=pd.read_csv(\"Assignment Data/Week 2/NHL_competition.csv\")\n",
    "NHL_Competition.head()"
   ]
  },
  {
   "cell_type": "code",
   "execution_count": null,
   "metadata": {},
   "outputs": [],
   "source": [
    "#Import NHL Game Data and Display Head\n",
    "NHL_Game=pd.read_csv(\"Assignment Data/Week 2/NHL_game.csv\")\n",
    "NHL_Game.head()"
   ]
  },
  {
   "cell_type": "code",
   "execution_count": null,
   "metadata": {},
   "outputs": [],
   "source": [
    "#Import NHL PPPK Data and Display Head\n",
    "NHL_PPPK=pd.read_csv(\"Assignment Data/Week 2/pp.pk.ppgf.csv\")\n",
    "NHL_PPPK.head()"
   ]
  },
  {
   "cell_type": "code",
   "execution_count": null,
   "metadata": {},
   "outputs": [],
   "source": []
  },
  {
   "cell_type": "markdown",
   "metadata": {},
   "source": [
    "## Part 2 - Descriptive and Summary Analyses"
   ]
  },
  {
   "cell_type": "code",
   "execution_count": null,
   "metadata": {},
   "outputs": [],
   "source": []
  },
  {
   "cell_type": "markdown",
   "metadata": {},
   "source": [
    "## Part 3 - Correlation Analyses\n"
   ]
  },
  {
   "cell_type": "code",
   "execution_count": null,
   "metadata": {},
   "outputs": [],
   "source": []
  },
  {
   "cell_type": "markdown",
   "metadata": {},
   "source": [
    "## Uncomment this Section once your assignment is complete"
   ]
  },
  {
   "cell_type": "code",
   "execution_count": null,
   "metadata": {},
   "outputs": [],
   "source": [
    "#Save Dataframes as .csv files\n",
    "#NHL_Game.to_csv(\"NHL_Game2.csv\", index=False)\n",
    "#NHL_Team_Stats.to_csv(\"NHL_Team_Stats.csv\", index=False)\n",
    "#NHL_Team_R_Stats.to_csv(\"NHL_Team_R_Stats.csv\", index=False)"
   ]
  }
 ],
 "metadata": {
  "kernelspec": {
   "display_name": "Python 3",
   "language": "python",
   "name": "python3"
  },
  "language_info": {
   "codemirror_mode": {
    "name": "ipython",
    "version": 3
   },
   "file_extension": ".py",
   "mimetype": "text/x-python",
   "name": "python",
   "nbconvert_exporter": "python",
   "pygments_lexer": "ipython3",
   "version": "3.7.4"
  }
 },
 "nbformat": 4,
 "nbformat_minor": 2
}
