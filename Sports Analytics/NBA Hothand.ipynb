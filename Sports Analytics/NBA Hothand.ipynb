{
 "cells": [
  {
   "cell_type": "markdown",
   "metadata": {},
   "source": [
    "## Part 1 - Data Preparation and Exploration "
   ]
  },
  {
   "cell_type": "code",
   "execution_count": null,
   "metadata": {},
   "outputs": [],
   "source": [
    "%%capture\n",
    "# Due to the configuration of the base Jupter image, the following imports are required for the regressions in the assignment to report the correct metrics\n",
    "\n",
    "import sys \n",
    "!{sys.executable} -m pip uninstall statsmodels --yes \n",
    "!{sys.executable} -m pip uninstall numpy --yes\n",
    "!{sys.executable} -m pip uninstall pandas --yes \n",
    "!{sys.executable} -m pip uninstall patsy --yes \n",
    "!{sys.executable} -m pip install numpy==1.17\n",
    "!{sys.executable} -m pip install pandas==1.0\n",
    "!{sys.executable} -m pip install patsy==0.5.2\n",
    "!{sys.executable} -m pip install statsmodels==0.11.1"
   ]
  },
  {
   "cell_type": "code",
   "execution_count": null,
   "metadata": {},
   "outputs": [],
   "source": [
    "#Import Libraries\n",
    "\n",
    "import pandas as pd\n",
    "import datetime as dt\n",
    "import scipy.stats as sp\n",
    "import numpy as np\n",
    "import statsmodels.formula.api as sm "
   ]
  },
  {
   "cell_type": "code",
   "execution_count": null,
   "metadata": {},
   "outputs": [],
   "source": [
    "# Import Shotlog_14_15 and Player_Stats Datasets\n",
    "\n",
    "Shotlog_1415=pd.read_csv(\"Data\\Shotlog_14_15.csv\")\n",
    "Player_Stats=pd.read_csv(\"Data\\Player_Stats_14_15.csv\")\n",
    "display(Shotlog_1415)"
   ]
  },
  {
   "cell_type": "code",
   "execution_count": null,
   "metadata": {},
   "outputs": [],
   "source": [
    "Shotlog_1415['game_clock'].head()"
   ]
  },
  {
   "cell_type": "code",
   "execution_count": null,
   "metadata": {},
   "outputs": [],
   "source": [
    "Shotlog_1415.columns"
   ]
  },
  {
   "cell_type": "code",
   "execution_count": null,
   "metadata": {},
   "outputs": [],
   "source": [
    "#Changing the date from text to date type\n",
    "import datetime as dt\n",
    "Shotlog_1415['date'] = pd.to_datetime(Shotlog_1415['date'])"
   ]
  },
  {
   "cell_type": "code",
   "execution_count": null,
   "metadata": {},
   "outputs": [],
   "source": [
    "#Modifying game clock\n",
    "Shotlog_1415['game_clock'] = pd.to_timedelta('00:'+ Shotlog_1415['game_clock'])"
   ]
  },
  {
   "cell_type": "code",
   "execution_count": null,
   "metadata": {},
   "outputs": [],
   "source": [
    "Shotlog_1415['shot_clock'] = pd.to_timedelta(Shotlog_1415['shot_clock'])"
   ]
  },
  {
   "cell_type": "code",
   "execution_count": null,
   "metadata": {},
   "outputs": [],
   "source": [
    "Shotlog_1415['shot_clock'].describe()"
   ]
  },
  {
   "cell_type": "code",
   "execution_count": null,
   "metadata": {},
   "outputs": [],
   "source": [
    "#creating a column to hold previous hot hit by a player\n",
    "Shotlog_1415['lag_shot_hit'] = Shotlog_1415.sort_values(by = ['quarter', 'game_clock'], ascending = [True, True]).groupby(['game_id','shoot_player', 'date'])['current_shot_hit'].shift(1)\n",
    "Shotlog_1415.head()"
   ]
  },
  {
   "cell_type": "code",
   "execution_count": null,
   "metadata": {},
   "outputs": [],
   "source": [
    "#Sorting data \n",
    "Shotlog_1415.sort_values(by = ['shoot_player', 'date', 'quarter', 'game_clock'], ascending = [True, True, True, True], inplace = True)"
   ]
  },
  {
   "cell_type": "code",
   "execution_count": null,
   "metadata": {},
   "outputs": [],
   "source": [
    "#Dropping empty rows\n",
    "Shotlog_1415 = Shotlog_1415[pd.notnull(Shotlog_1415['lag_shot_hit'])]"
   ]
  },
  {
   "cell_type": "code",
   "execution_count": null,
   "metadata": {},
   "outputs": [],
   "source": [
    "#Creating useful variables\n",
    "Shotlog_1415['error'] = Shotlog_1415['current_shot_hit'] - Shotlog_1415['average_hit']\n",
    "Shotlog_1415['lagerror'] = Shotlog_1415['lag_shot_hit'] - Shotlog_1415['average_hit']"
   ]
  },
  {
   "cell_type": "code",
   "execution_count": null,
   "metadata": {},
   "outputs": [],
   "source": [
    "Shotlog_1415['error'].describe()"
   ]
  },
  {
   "cell_type": "code",
   "execution_count": null,
   "metadata": {},
   "outputs": [],
   "source": [
    "Shotlog_1415['lagerror'].describe()"
   ]
  },
  {
   "cell_type": "markdown",
   "metadata": {},
   "source": [
    "## Part 2 - Conditional Probability and Autocorrelation"
   ]
  },
  {
   "cell_type": "code",
   "execution_count": null,
   "metadata": {},
   "outputs": [],
   "source": [
    "#Consecutive Shot\n",
    "Shotlog_1415['conse_shot'] = np.where((Shotlog_1415['current_shot_hit'] == 1 ) & (Shotlog_1415['lag_shot_hit'] == 1), 1, 0)\n",
    "Shotlog_1415.head()"
   ]
  },
  {
   "cell_type": "code",
   "execution_count": null,
   "metadata": {},
   "outputs": [],
   "source": [
    "#Probabilities / Averages\n",
    "Player_Prob  = Shotlog_1415.groupby(['shoot_player'])['conse_shot', 'lag_shot_hit'].mean()\n",
    "Player_Prob = Player_Prob.reset_index()\n",
    "Player_Prob.rename(columns = {'lag_shot_hit': 'average_lag_hit', 'conse_shot': 'conse_shot_hit'}, inplace = True)\n",
    "Player_Prob.head()"
   ]
  },
  {
   "cell_type": "code",
   "execution_count": null,
   "metadata": {},
   "outputs": [],
   "source": [
    "#Condtional Probability\n",
    "Player_Prob['condtional_prob'] = Player_Prob['conse_shot_hit'] / Player_Prob['average_lag_hit']\n",
    "Player_Prob.head()"
   ]
  },
  {
   "cell_type": "code",
   "execution_count": null,
   "metadata": {},
   "outputs": [],
   "source": [
    "Player_Stats.head()"
   ]
  },
  {
   "cell_type": "code",
   "execution_count": null,
   "metadata": {},
   "outputs": [],
   "source": [
    "#Merging player probabilty data with player stats data\n",
    "Player_Stats = pd.merge(Player_Prob, Player_Stats, on = ['shoot_player'])\n",
    "Player_Stats.head()"
   ]
  },
  {
   "cell_type": "code",
   "execution_count": null,
   "metadata": {},
   "outputs": [],
   "source": [
    "Player_Stats.info()"
   ]
  },
  {
   "cell_type": "code",
   "execution_count": null,
   "metadata": {},
   "outputs": [],
   "source": [
    "#dropping empty rows\n",
    "Player_Stats = Player_Stats[pd.notnull(Player_Stats['condtional_prob'])]"
   ]
  },
  {
   "cell_type": "code",
   "execution_count": null,
   "metadata": {},
   "outputs": [],
   "source": [
    "#summary stats\n",
    "Player_Stats[['average_hit', 'condtional_prob', 'conse_shot_hit']].describe()"
   ]
  },
  {
   "cell_type": "code",
   "execution_count": null,
   "metadata": {},
   "outputs": [],
   "source": [
    "Player_Stats.sort_values(by = ['condtional_prob'], ascending = False).head(10)"
   ]
  },
  {
   "cell_type": "code",
   "execution_count": null,
   "metadata": {},
   "outputs": [],
   "source": [
    "#difference in probabilty\n",
    "Player_Stats['diff_prob'] = Player_Stats['condtional_prob'] - Player_Stats['average_hit']\n",
    "Player_Stats.head()"
   ]
  },
  {
   "cell_type": "code",
   "execution_count": null,
   "metadata": {},
   "outputs": [],
   "source": [
    "Player_Stats = pd.merge(Player_Stats, Shotlog_1415, on = ['shoot_player'])\n",
    "Player_Stats.sort_values(by = ['diff_prob'], ascending = [False]).head()"
   ]
  },
  {
   "cell_type": "code",
   "execution_count": null,
   "metadata": {},
   "outputs": [],
   "source": [
    "#runing t statistics for conditional prob and diff prob\n",
    "sp.stats.ttest_ind(Player_Stats['condtional_prob'], Player_Stats['diff_prob'])"
   ]
  },
  {
   "cell_type": "code",
   "execution_count": null,
   "metadata": {},
   "outputs": [],
   "source": [
    "#runing t statistics for diff prob and average lag hit\n",
    "sp.stats.ttest_ind(Player_Stats['diff_prob'], Player_Stats['average_lag_hit'])"
   ]
  },
  {
   "cell_type": "code",
   "execution_count": null,
   "metadata": {},
   "outputs": [],
   "source": [
    "#correlation between current shot hit and previous shot hit\n",
    "Player_Stats['current_shot_hit'].corr(Player_Stats['lag_shot_hit'])"
   ]
  },
  {
   "cell_type": "code",
   "execution_count": null,
   "metadata": {},
   "outputs": [],
   "source": [
    "#autocorrelation for each play using current shot hit and previous shot hit\n",
    "Autocorr_hit = Player_Stats.groupby('shoot_player')[['current_shot_hit', 'lag_shot_hit']].corr().unstack().iloc[:, 1].reset_index()\n",
    "Autocorr_hit.columns  = Autocorr_hit.columns.get_level_values(0)"
   ]
  },
  {
   "cell_type": "code",
   "execution_count": null,
   "metadata": {},
   "outputs": [],
   "source": [
    "Autocorr_hit.head()"
   ]
  },
  {
   "cell_type": "code",
   "execution_count": null,
   "metadata": {},
   "outputs": [],
   "source": [
    "Autocorr_hit.rename(columns = {'current_shot_hit': 'autocorr'}, inplace = True)\n",
    "Autocorr_hit.head()"
   ]
  },
  {
   "cell_type": "code",
   "execution_count": null,
   "metadata": {},
   "outputs": [],
   "source": [
    "Autocorr_hit.sort_values(by = 'autocorr', ascending = False).head(10)"
   ]
  },
  {
   "cell_type": "markdown",
   "metadata": {},
   "source": [
    "## Part 3 - Regression Analyses"
   ]
  },
  {
   "cell_type": "code",
   "execution_count": null,
   "metadata": {},
   "outputs": [],
   "source": [
    "Player_Stats.columns"
   ]
  },
  {
   "cell_type": "code",
   "execution_count": null,
   "metadata": {},
   "outputs": [],
   "source": [
    "Shotlog_1415.columns"
   ]
  },
  {
   "cell_type": "code",
   "execution_count": null,
   "metadata": {},
   "outputs": [],
   "source": [
    "reg1 = sm.ols(formula = 'error ~ lagerror+shot_dist+dribbles+touch_time+points+quarter+home_away+shoot_player+closest_defender+closest_def_dist', data = Player_Stats).fit()\n",
    "print(reg1.summary())"
   ]
  },
  {
   "cell_type": "code",
   "execution_count": null,
   "metadata": {},
   "outputs": [],
   "source": [
    "reg2 = sm.wls(formula = 'error ~ lagerror+shot_dist+dribbles+touch_time+points+quarter+home_away+shoot_player+closest_defender+closest_def_dist', \n",
    "              weights = 1 /Shotlog_1415['shot_per_game'], data = Shotlog_1415).fit()\n",
    "print(reg2.summary())"
   ]
  },
  {
   "cell_type": "code",
   "execution_count": null,
   "metadata": {},
   "outputs": [],
   "source": [
    "#function to run regresson for each player by name\n",
    "def reg3_player(player):\n",
    "    Shotlog_player = Shotlog_1415[Shotlog_1415.shoot_player == player]\n",
    "    reg_player = sm.ols(formula = 'error ~ lagerror+shot_dist+dribbles+touch_time+points+quarter+home_away+closest_def_dist', data = Shotlog_1415).fit()\n",
    "    print(reg_player.summary())\n",
    "    return;"
   ]
  },
  {
   "cell_type": "code",
   "execution_count": null,
   "metadata": {},
   "outputs": [],
   "source": [
    "reg3_player(player = 'Russel Westbrook')"
   ]
  },
  {
   "cell_type": "code",
   "execution_count": null,
   "metadata": {},
   "outputs": [],
   "source": [
    "def reg4_Wls_player(player):\n",
    "    Shotlog_palyer = Shotlog_1415[Shotlog_1415.shoot_player == player]\n",
    "    reg_wls_player = sm.wls(formula = 'error ~ lagerror+shot_dist+dribbles+touch_time+points+quarter+home_away+closest_def_dist', weights = 1 / Shotlog_1415['shot_per_game'], data = Shotlog_1415).fit()\n",
    "    print(reg_wls_player.summary())\n",
    "    return;"
   ]
  },
  {
   "cell_type": "code",
   "execution_count": null,
   "metadata": {},
   "outputs": [],
   "source": [
    "reg4_Wls_player(player = 'Russel Westbrook')"
   ]
  },
  {
   "cell_type": "code",
   "execution_count": null,
   "metadata": {},
   "outputs": [],
   "source": [
    "player_list = np.array(Shotlog_1415['shoot_player'])\n",
    "player_list = np.unique(player_list)"
   ]
  },
  {
   "cell_type": "code",
   "execution_count": null,
   "metadata": {},
   "outputs": [],
   "source": [
    "#Regression for all players by using array index\n",
    "i = 0\n",
    "Player_Results = {}\n",
    "while i <= len(player_list) - 1:\n",
    "    shotlog_player = Shotlog_1415[Shotlog_1415.shoot_player == player_list[i]]\n",
    "    reg_player = sm.wls(formula = 'error ~ lagerror+shot_dist+dribbles+touch_time+points+quarter+home_away+closest_def_dist', \n",
    "                        weights = 1 / shotlog_player['shot_per_game'], data = shotlog_player).fit()\n",
    "    RegParams = pd.DataFrame(reg_player.params).reset_index()\n",
    "    RegTVals = pd.DataFrame(reg_player.tvalues).reset_index()\n",
    "    RegPvals = pd.DataFrame(reg_player.pvalues).reset_index()\n",
    "\n",
    "    RegOutput = pd.merge(RegParams, RegTVals, on = ['index'])\n",
    "    RegOutput = pd.merge(RegOutput, RegPvals, on = ['index'])\n",
    "    RegOutput\n",
    "\n",
    "    lagErr = RegOutput[RegOutput['index'] == 'lagerror']\n",
    "    lagErr = lagErr.drop(columns = ['index'])\n",
    "    lagErr = lagErr.rename(columns = {'0_x':'Coef', '0_y':'T_Statistics', 0:'P_value'})\n",
    "    lagErr['shoot_player'] = player_list[i]\n",
    "    Headers = ['shoot_player', 'Coef', 'T_Statistics', 'P_value']\n",
    "    Player_Results[i] = lagErr[Headers]\n",
    "    i += 1"
   ]
  },
  {
   "cell_type": "code",
   "execution_count": null,
   "metadata": {},
   "outputs": [],
   "source": [
    "RegPlayer = Player_Results[0]\n",
    "j = 1\n",
    "while j <= len(player_list) - 1:\n",
    "    RegPlayer = RegPlayer.append(Player_Results[j])\n",
    "    j += 1\n",
    "RegPlayer = RegPlayer.reset_index()\n",
    "RegPlayer = RegPlayer.drop(columns = ['index'])\n",
    "RegPlayer"
   ]
  },
  {
   "cell_type": "code",
   "execution_count": null,
   "metadata": {},
   "outputs": [],
   "source": [
    "reg3_player(player='Steph Curry')"
   ]
  },
  {
   "cell_type": "code",
   "execution_count": null,
   "metadata": {},
   "outputs": [],
   "source": [
    "reg3_player('James Harden')"
   ]
  },
  {
   "cell_type": "code",
   "execution_count": null,
   "metadata": {},
   "outputs": [],
   "source": [
    "reg3_player('Andrew Wiggins')"
   ]
  },
  {
   "cell_type": "code",
   "execution_count": null,
   "metadata": {},
   "outputs": [],
   "source": [
    "reg3_player('Russel westbrook')"
   ]
  },
  {
   "cell_type": "code",
   "execution_count": null,
   "metadata": {},
   "outputs": [],
   "source": [
    "reg4_Wls_player(player = 'Steph Curry')"
   ]
  },
  {
   "cell_type": "code",
   "execution_count": null,
   "metadata": {},
   "outputs": [],
   "source": []
  }
 ],
 "metadata": {
  "kernelspec": {
   "display_name": "Python 3.8.8 ('base')",
   "language": "python",
   "name": "python3"
  },
  "language_info": {
   "codemirror_mode": {
    "name": "ipython",
    "version": 3
   },
   "file_extension": ".py",
   "mimetype": "text/x-python",
   "name": "python",
   "nbconvert_exporter": "python",
   "pygments_lexer": "ipython3",
   "version": "3.8.8 (default, Apr 13 2021, 15:08:03) [MSC v.1916 64 bit (AMD64)]"
  },
  "vscode": {
   "interpreter": {
    "hash": "a3d1f5a40e83e699fa9d98d411f8d9f4af992d6222f178debd8b0cd072f22c83"
   }
  }
 },
 "nbformat": 4,
 "nbformat_minor": 2
}
